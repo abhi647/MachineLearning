{
 "cells": [
  {
   "cell_type": "markdown",
   "metadata": {},
   "source": [
    "## What is cross-validation?\n"
   ]
  },
  {
   "cell_type": "markdown",
   "metadata": {},
   "source": [
    "####  Cross validation (CV) is one of the technique used to test the effectiveness of a machine learning models, it is also a re-sampling procedure used to evaluate a model if we have a limited data."
   ]
  },
  {
   "cell_type": "code",
   "execution_count": null,
   "metadata": {},
   "outputs": [],
   "source": [
    "import pandas as pd\n",
    "df = pd.read_csv('winequality_red.csv')"
   ]
  },
  {
   "cell_type": "code",
   "execution_count": null,
   "metadata": {},
   "outputs": [],
   "source": [
    "df"
   ]
  },
  {
   "cell_type": "code",
   "execution_count": null,
   "metadata": {},
   "outputs": [],
   "source": [
    "#mapping the quality\n",
    "\n",
    "quality_mapping = {3:0,4:1,5:2,6:3,7:4,8:5}"
   ]
  },
  {
   "cell_type": "code",
   "execution_count": null,
   "metadata": {},
   "outputs": [],
   "source": [
    "#Column to value\n",
    "df.loc[:,\"quality\"] = df.quality.map(quality_mapping)"
   ]
  },
  {
   "cell_type": "markdown",
   "metadata": {},
   "source": [
    "### Decision Trees for the model"
   ]
  },
  {
   "cell_type": "code",
   "execution_count": null,
   "metadata": {},
   "outputs": [],
   "source": [
    "# Reshuffling the data\n",
    "df = df.sample(frac = 1).reset_index(drop=True)"
   ]
  },
  {
   "cell_type": "code",
   "execution_count": null,
   "metadata": {},
   "outputs": [],
   "source": [
    "df_train = df.head(1000)"
   ]
  },
  {
   "cell_type": "code",
   "execution_count": null,
   "metadata": {},
   "outputs": [],
   "source": [
    "df_test = df.tail(599)"
   ]
  },
  {
   "cell_type": "markdown",
   "metadata": {},
   "source": [
    "## Let's train the model"
   ]
  },
  {
   "cell_type": "code",
   "execution_count": null,
   "metadata": {},
   "outputs": [],
   "source": [
    "from sklearn import tree\n",
    "from sklearn import metrics"
   ]
  },
  {
   "cell_type": "code",
   "execution_count": null,
   "metadata": {},
   "outputs": [],
   "source": [
    "## Initialise decision tree classifier class with max_depth of 3\n",
    "clf = tree.DecisionTreeClassifier(max_depth=3)\n",
    "\n",
    "## Choose the column you want to train the model\n",
    "cols = ['fixed acidity',\n",
    "        'volatile acidity',\n",
    "       'citric acid',\n",
    "       'residual sugar',\n",
    "       'chlorides',\n",
    "       'free sulfur dioxide',\n",
    "       'total sulfur dioxide',\n",
    "       'density',\n",
    "       'pH',\n",
    "       'sulphates',\n",
    "       'alcohol']"
   ]
  },
  {
   "cell_type": "code",
   "execution_count": null,
   "metadata": {},
   "outputs": [],
   "source": [
    "## Train the model on provided features\n",
    "clf.fit(df_train[cols],df_train.quality)"
   ]
  },
  {
   "cell_type": "code",
   "execution_count": null,
   "metadata": {},
   "outputs": [],
   "source": [
    "## Let's check the accuracy\n",
    "\n",
    "# generate predictions on the training set\n",
    "train_predictions =clf.predict(df_train[cols])\n",
    "\n",
    "# generate predictions on test set\n",
    "test_predictions = clf.predict(df_test[cols])"
   ]
  },
  {
   "cell_type": "markdown",
   "metadata": {},
   "source": [
    "#### Model Accuracy"
   ]
  },
  {
   "cell_type": "code",
   "execution_count": null,
   "metadata": {},
   "outputs": [],
   "source": [
    "# Train Accuracy\n",
    "train_accuracy = metrics.accuracy_score(df_train.quality,train_predictions)"
   ]
  },
  {
   "cell_type": "code",
   "execution_count": null,
   "metadata": {},
   "outputs": [],
   "source": [
    "# Test Accuracy\n",
    "test_accuracy = metrics.accuracy_score(df_test.quality,test_predictions)"
   ]
  },
  {
   "cell_type": "code",
   "execution_count": null,
   "metadata": {},
   "outputs": [],
   "source": [
    "test_accuracy"
   ]
  },
  {
   "cell_type": "code",
   "execution_count": null,
   "metadata": {},
   "outputs": [],
   "source": [
    "train_accuracy"
   ]
  },
  {
   "cell_type": "markdown",
   "metadata": {},
   "source": [
    "# Let's increase the max_depth to 7 and then check the accuracy"
   ]
  },
  {
   "cell_type": "code",
   "execution_count": null,
   "metadata": {},
   "outputs": [],
   "source": [
    "## Initialise decision tree classifier class with max_depth of 3\n",
    "clf_2 = tree.DecisionTreeClassifier(max_depth=7)\n",
    "\n",
    "## Choose the column you want to train the model\n",
    "cols = ['fixed acidity',\n",
    "        'volatile acidity',\n",
    "       'citric acid',\n",
    "       'residual sugar',\n",
    "       'chlorides',\n",
    "       'free sulfur dioxide',\n",
    "       'total sulfur dioxide',\n",
    "       'density',\n",
    "       'pH',\n",
    "       'sulphates',\n",
    "       'alcohol']"
   ]
  },
  {
   "cell_type": "code",
   "execution_count": null,
   "metadata": {},
   "outputs": [],
   "source": [
    "## Train the model on provided features\n",
    "clf_2.fit(df_train[cols],df_train.quality)"
   ]
  },
  {
   "cell_type": "code",
   "execution_count": null,
   "metadata": {},
   "outputs": [],
   "source": [
    "## Let's check the accuracy\n",
    "\n",
    "# generate predictions on the training set\n",
    "train_predictions =clf_2.predict(df_train[cols])\n",
    "\n",
    "# generate predictions on test set\n",
    "test_predictions = clf_2.predict(df_test[cols])"
   ]
  },
  {
   "cell_type": "code",
   "execution_count": null,
   "metadata": {},
   "outputs": [],
   "source": [
    "train_accuracy, test_accuracy"
   ]
  },
  {
   "cell_type": "code",
   "execution_count": null,
   "metadata": {},
   "outputs": [],
   "source": [
    "### Let's plot the whole process for different max_depth values"
   ]
  },
  {
   "cell_type": "code",
   "execution_count": null,
   "metadata": {},
   "outputs": [],
   "source": [
    "from sklearn import tree\n",
    "from sklearn import metrics\n",
    "\n",
    "# for plotting\n",
    "import matplotlib\n",
    "import matplotlib.pyplot as plt\n",
    "import seaborn as sns"
   ]
  },
  {
   "cell_type": "code",
   "execution_count": null,
   "metadata": {},
   "outputs": [],
   "source": [
    "## Size for the labels\n",
    "matplotlib.rc('xtick',labelsize =20)\n",
    "matplotlib.rc('ytick',labelsize =20)"
   ]
  },
  {
   "cell_type": "code",
   "execution_count": null,
   "metadata": {},
   "outputs": [],
   "source": [
    "## this line ensures that the plot displays inside the notebook\n",
    "%matplotlib inline"
   ]
  },
  {
   "cell_type": "code",
   "execution_count": null,
   "metadata": {},
   "outputs": [],
   "source": [
    "## initialise list to store accuracies\n",
    "# for training and test data\n",
    "# We'll start with 50% accuracy\n",
    "\n",
    "train_accuracies =[0.5]\n",
    "test_accuracies =[0.5]"
   ]
  },
  {
   "cell_type": "code",
   "execution_count": null,
   "metadata": {},
   "outputs": [],
   "source": [
    "# Iterate over few depth values\n",
    "for depth in range (1,25):\n",
    "    clf = tree.DecisionTreeClassifier(max_depth=depth)\n",
    "#Column features for training\n",
    "    cols = ['fixed acidity',\n",
    "        'volatile acidity',\n",
    "       'citric acid',\n",
    "       'residual sugar',\n",
    "       'chlorides',\n",
    "       'free sulfur dioxide',\n",
    "       'total sulfur dioxide',\n",
    "       'density',\n",
    "       'pH',\n",
    "       'sulphates',\n",
    "       'alcohol']"
   ]
  },
  {
   "cell_type": "code",
   "execution_count": null,
   "metadata": {},
   "outputs": [],
   "source": [
    "# Fit the model\n",
    "clf.fit(df_train[cols],df_train.quality)\n",
    "\n",
    "# generate predictions on the training set\n",
    "train_predictions =clf.predict(df_train[cols])\n",
    "\n",
    "# generate predictions on test set\n",
    "test_predictions = clf.predict(df_test[cols])"
   ]
  },
  {
   "cell_type": "code",
   "execution_count": null,
   "metadata": {},
   "outputs": [],
   "source": [
    "## Calculate training and test accuracies\n",
    "# Train\n",
    "train_accuracy = metrics.accuracy_score(df_train.quality,train_predictions)\n",
    "# Test Accuracy\n",
    "test_accuracy = metrics.accuracy_score(df_test.quality,test_predictions)"
   ]
  },
  {
   "cell_type": "code",
   "execution_count": null,
   "metadata": {},
   "outputs": [],
   "source": [
    "## Append accuracies\n",
    "train_accuracies.append(train_accuracy)\n",
    "test_accuracies.append(test_accuracy)"
   ]
  },
  {
   "cell_type": "code",
   "execution_count": null,
   "metadata": {},
   "outputs": [],
   "source": [
    "## Create the plot\n",
    "plt.figure(figsize=(10,5))\n",
    "sns.set_style(\"whitegrid\")\n",
    "plt.plot(train_accuracies,label = 'Train Accuracy')\n",
    "plt.plot(test_accuracies,label = 'Test Accuracy')\n",
    "plt.legend(loc ='upper left',prop ={'size':15})\n",
    "plt.xticks(range(0,26,5))\n",
    "plt.xlabel(\"Max_Depth\",size = 20)\n",
    "plt.ylabel(\"Accuracy\",size = 20)\n",
    "plt.show()"
   ]
  },
  {
   "cell_type": "code",
   "execution_count": null,
   "metadata": {},
   "outputs": [],
   "source": [
    "## What is Overfitting?\n",
    "When the model fits prefectly on the training set and perform poorly when it comes to the test set this phenomenon is known as Overfitting"
   ]
  },
  {
   "cell_type": "markdown",
   "metadata": {},
   "source": [
    "<b>"
   ]
  },
  {
   "cell_type": "markdown",
   "metadata": {},
   "source": [
    "# Cross-Validation\n",
    "\n",
    "### Cross validation is dividing training data into few parts. We train the model on some of these parts and test on the remaining parts\n",
    "\n",
    
   ]
  },
  {
   "cell_type": "markdown",
   "metadata": {},
   "source": [
    "### There are few cross validation techniques which are the most popular and widely used"
   ]
  },
  {
   "cell_type": "code",
   "execution_count": null,
   "metadata": {},
   "outputs": [],
   "source": [
    "### These include\n",
    "    - k-fold cross validation\n",
    "    - Stratified k-fold cross validation\n",
    "    - Holdout based validation\n",
    "    - Leave one out cross validation\n",
    "    - group k-fold cross validation"
   ]
  },
  {
   "cell_type": "markdown",
   "metadata": {},
   "source": [
    "## K-fold Cross validation"
   ]
  },
  {
   "cell_type": "markdown",
   "metadata": {},
   "source": [
    "### We can use this process in any kind of dataset as long as it is not skewed or biased\n",
    "\n",
    "#### K-Folds technique is a popular and easy to understand, it generally results in a less biased model compare to other methods. Because it ensures that every observation from the original dataset has the chance of appearing in training and test set. This is one among the best approach if we have a limited input data."
   ]
  },
  {
   "cell_type": "code",
   "execution_count": 62,
   "metadata": {},
   "outputs": [],
   "source": [
    "# import pandas and model_selection module of sci-kit learn\n",
    "import pandas as pd\n",
    "from sklearn import model_selection"
   ]
  },
  {
   "cell_type": "code",
   "execution_count": 63,
   "metadata": {},
   "outputs": [],
   "source": [
    "# Every module in Python has a special attribute called __name__. \n",
    "# The value of __name__ attribute is set to “__main__” when module is run as main program. Otherwise, \n",
    "# the value of __name__ is set to contain the name of the module.\n",
    "if __name__ == \"__main__\":\n",
    "# Training data\n",
    "    df = df_train"
   ]
  },
  {
   "cell_type": "code",
   "execution_count": 64,
   "metadata": {},
   "outputs": [
    {
     "data": {
      "text/html": [
       "<div>\n",
       "<style scoped>\n",
       "    .dataframe tbody tr th:only-of-type {\n",
       "        vertical-align: middle;\n",
       "    }\n",
       "\n",
       "    .dataframe tbody tr th {\n",
       "        vertical-align: top;\n",
       "    }\n",
       "\n",
       "    .dataframe thead th {\n",
       "        text-align: right;\n",
       "    }\n",
       "</style>\n",
       "<table border=\"1\" class=\"dataframe\">\n",
       "  <thead>\n",
       "    <tr style=\"text-align: right;\">\n",
       "      <th></th>\n",
       "      <th>fixed acidity</th>\n",
       "      <th>volatile acidity</th>\n",
       "      <th>citric acid</th>\n",
       "      <th>residual sugar</th>\n",
       "      <th>chlorides</th>\n",
       "      <th>free sulfur dioxide</th>\n",
       "      <th>total sulfur dioxide</th>\n",
       "      <th>density</th>\n",
       "      <th>pH</th>\n",
       "      <th>sulphates</th>\n",
       "      <th>alcohol</th>\n",
       "      <th>quality</th>\n",
       "      <th>kfold</th>\n",
       "    </tr>\n",
       "  </thead>\n",
       "  <tbody>\n",
       "    <tr>\n",
       "      <th>0</th>\n",
       "      <td>7.5</td>\n",
       "      <td>0.510</td>\n",
       "      <td>0.02</td>\n",
       "      <td>1.7</td>\n",
       "      <td>0.084</td>\n",
       "      <td>13.0</td>\n",
       "      <td>31.0</td>\n",
       "      <td>0.99538</td>\n",
       "      <td>3.36</td>\n",
       "      <td>0.54</td>\n",
       "      <td>10.500000</td>\n",
       "      <td>3</td>\n",
       "      <td>-1</td>\n",
       "    </tr>\n",
       "    <tr>\n",
       "      <th>1</th>\n",
       "      <td>11.6</td>\n",
       "      <td>0.475</td>\n",
       "      <td>0.40</td>\n",
       "      <td>1.4</td>\n",
       "      <td>0.091</td>\n",
       "      <td>6.0</td>\n",
       "      <td>28.0</td>\n",
       "      <td>0.99704</td>\n",
       "      <td>3.07</td>\n",
       "      <td>0.65</td>\n",
       "      <td>10.033333</td>\n",
       "      <td>3</td>\n",
       "      <td>-1</td>\n",
       "    </tr>\n",
       "    <tr>\n",
       "      <th>2</th>\n",
       "      <td>9.2</td>\n",
       "      <td>0.360</td>\n",
       "      <td>0.34</td>\n",
       "      <td>1.6</td>\n",
       "      <td>0.062</td>\n",
       "      <td>5.0</td>\n",
       "      <td>12.0</td>\n",
       "      <td>0.99667</td>\n",
       "      <td>3.20</td>\n",
       "      <td>0.67</td>\n",
       "      <td>10.500000</td>\n",
       "      <td>3</td>\n",
       "      <td>-1</td>\n",
       "    </tr>\n",
       "    <tr>\n",
       "      <th>3</th>\n",
       "      <td>7.7</td>\n",
       "      <td>0.270</td>\n",
       "      <td>0.68</td>\n",
       "      <td>3.5</td>\n",
       "      <td>0.358</td>\n",
       "      <td>5.0</td>\n",
       "      <td>10.0</td>\n",
       "      <td>0.99720</td>\n",
       "      <td>3.25</td>\n",
       "      <td>1.08</td>\n",
       "      <td>9.900000</td>\n",
       "      <td>4</td>\n",
       "      <td>-1</td>\n",
       "    </tr>\n",
       "    <tr>\n",
       "      <th>4</th>\n",
       "      <td>7.5</td>\n",
       "      <td>0.630</td>\n",
       "      <td>0.27</td>\n",
       "      <td>2.0</td>\n",
       "      <td>0.083</td>\n",
       "      <td>17.0</td>\n",
       "      <td>91.0</td>\n",
       "      <td>0.99616</td>\n",
       "      <td>3.26</td>\n",
       "      <td>0.58</td>\n",
       "      <td>9.800000</td>\n",
       "      <td>3</td>\n",
       "      <td>-1</td>\n",
       "    </tr>\n",
       "    <tr>\n",
       "      <th>...</th>\n",
       "      <td>...</td>\n",
       "      <td>...</td>\n",
       "      <td>...</td>\n",
       "      <td>...</td>\n",
       "      <td>...</td>\n",
       "      <td>...</td>\n",
       "      <td>...</td>\n",
       "      <td>...</td>\n",
       "      <td>...</td>\n",
       "      <td>...</td>\n",
       "      <td>...</td>\n",
       "      <td>...</td>\n",
       "      <td>...</td>\n",
       "    </tr>\n",
       "    <tr>\n",
       "      <th>995</th>\n",
       "      <td>10.3</td>\n",
       "      <td>0.270</td>\n",
       "      <td>0.56</td>\n",
       "      <td>1.4</td>\n",
       "      <td>0.047</td>\n",
       "      <td>3.0</td>\n",
       "      <td>8.0</td>\n",
       "      <td>0.99471</td>\n",
       "      <td>3.16</td>\n",
       "      <td>0.51</td>\n",
       "      <td>11.800000</td>\n",
       "      <td>3</td>\n",
       "      <td>-1</td>\n",
       "    </tr>\n",
       "    <tr>\n",
       "      <th>996</th>\n",
       "      <td>9.9</td>\n",
       "      <td>0.400</td>\n",
       "      <td>0.53</td>\n",
       "      <td>6.7</td>\n",
       "      <td>0.097</td>\n",
       "      <td>6.0</td>\n",
       "      <td>19.0</td>\n",
       "      <td>0.99860</td>\n",
       "      <td>3.27</td>\n",
       "      <td>0.82</td>\n",
       "      <td>11.700000</td>\n",
       "      <td>4</td>\n",
       "      <td>-1</td>\n",
       "    </tr>\n",
       "    <tr>\n",
       "      <th>997</th>\n",
       "      <td>7.5</td>\n",
       "      <td>0.520</td>\n",
       "      <td>0.40</td>\n",
       "      <td>2.2</td>\n",
       "      <td>0.060</td>\n",
       "      <td>12.0</td>\n",
       "      <td>20.0</td>\n",
       "      <td>0.99474</td>\n",
       "      <td>3.26</td>\n",
       "      <td>0.64</td>\n",
       "      <td>11.800000</td>\n",
       "      <td>3</td>\n",
       "      <td>-1</td>\n",
       "    </tr>\n",
       "    <tr>\n",
       "      <th>998</th>\n",
       "      <td>9.1</td>\n",
       "      <td>0.680</td>\n",
       "      <td>0.11</td>\n",
       "      <td>2.8</td>\n",
       "      <td>0.093</td>\n",
       "      <td>11.0</td>\n",
       "      <td>44.0</td>\n",
       "      <td>0.99888</td>\n",
       "      <td>3.31</td>\n",
       "      <td>0.55</td>\n",
       "      <td>9.500000</td>\n",
       "      <td>3</td>\n",
       "      <td>-1</td>\n",
       "    </tr>\n",
       "    <tr>\n",
       "      <th>999</th>\n",
       "      <td>6.4</td>\n",
       "      <td>0.640</td>\n",
       "      <td>0.21</td>\n",
       "      <td>1.8</td>\n",
       "      <td>0.081</td>\n",
       "      <td>14.0</td>\n",
       "      <td>31.0</td>\n",
       "      <td>0.99689</td>\n",
       "      <td>3.59</td>\n",
       "      <td>0.66</td>\n",
       "      <td>9.800000</td>\n",
       "      <td>2</td>\n",
       "      <td>-1</td>\n",
       "    </tr>\n",
       "  </tbody>\n",
       "</table>\n",
       "<p>1000 rows × 13 columns</p>\n",
       "</div>"
      ],
      "text/plain": [
       "     fixed acidity  volatile acidity  citric acid  residual sugar  chlorides  \\\n",
       "0              7.5             0.510         0.02             1.7      0.084   \n",
       "1             11.6             0.475         0.40             1.4      0.091   \n",
       "2              9.2             0.360         0.34             1.6      0.062   \n",
       "3              7.7             0.270         0.68             3.5      0.358   \n",
       "4              7.5             0.630         0.27             2.0      0.083   \n",
       "..             ...               ...          ...             ...        ...   \n",
       "995           10.3             0.270         0.56             1.4      0.047   \n",
       "996            9.9             0.400         0.53             6.7      0.097   \n",
       "997            7.5             0.520         0.40             2.2      0.060   \n",
       "998            9.1             0.680         0.11             2.8      0.093   \n",
       "999            6.4             0.640         0.21             1.8      0.081   \n",
       "\n",
       "     free sulfur dioxide  total sulfur dioxide  density    pH  sulphates  \\\n",
       "0                   13.0                  31.0  0.99538  3.36       0.54   \n",
       "1                    6.0                  28.0  0.99704  3.07       0.65   \n",
       "2                    5.0                  12.0  0.99667  3.20       0.67   \n",
       "3                    5.0                  10.0  0.99720  3.25       1.08   \n",
       "4                   17.0                  91.0  0.99616  3.26       0.58   \n",
       "..                   ...                   ...      ...   ...        ...   \n",
       "995                  3.0                   8.0  0.99471  3.16       0.51   \n",
       "996                  6.0                  19.0  0.99860  3.27       0.82   \n",
       "997                 12.0                  20.0  0.99474  3.26       0.64   \n",
       "998                 11.0                  44.0  0.99888  3.31       0.55   \n",
       "999                 14.0                  31.0  0.99689  3.59       0.66   \n",
       "\n",
       "       alcohol  quality  kfold  \n",
       "0    10.500000        3     -1  \n",
       "1    10.033333        3     -1  \n",
       "2    10.500000        3     -1  \n",
       "3     9.900000        4     -1  \n",
       "4     9.800000        3     -1  \n",
       "..         ...      ...    ...  \n",
       "995  11.800000        3     -1  \n",
       "996  11.700000        4     -1  \n",
       "997  11.800000        3     -1  \n",
       "998   9.500000        3     -1  \n",
       "999   9.800000        2     -1  \n",
       "\n",
       "[1000 rows x 13 columns]"
      ]
     },
     "execution_count": 64,
     "metadata": {},
     "output_type": "execute_result"
    }
   ],
   "source": [
    "df"
   ]
  },
  {
   "cell_type": "code",
   "execution_count": 65,
   "metadata": {},
   "outputs": [],
   "source": [
    "# We create a new column called kfold and fill it with -1\n",
    "df[\"kfold\"] = -1"
   ]
  },
  {
   "cell_type": "code",
   "execution_count": 66,
   "metadata": {},
   "outputs": [],
   "source": [
    "# Next step is to randomise the data\n",
    "df = df.sample(frac=1).reset_index(drop =True)"
   ]
  },
  {
   "cell_type": "code",
   "execution_count": 67,
   "metadata": {},
   "outputs": [],
   "source": [
    "# Initiate kfold class from model_selection module\n",
    "kf = model_selection.KFold(n_splits=5)"
   ]
  },
  {
   "cell_type": "code",
   "execution_count": 68,
   "metadata": {},
   "outputs": [],
   "source": [
    "# Fill the new Kfold column\n",
    "for fold, (trn_,val_) in enumerate(kf.split(X=df)):\n",
    "    df.loc[val_,'kfold'] = fold\n"
   ]
  },
  {
   "cell_type": "code",
   "execution_count": 69,
   "metadata": {},
   "outputs": [
    {
     "data": {
      "text/html": [
       "<div>\n",
       "<style scoped>\n",
       "    .dataframe tbody tr th:only-of-type {\n",
       "        vertical-align: middle;\n",
       "    }\n",
       "\n",
       "    .dataframe tbody tr th {\n",
       "        vertical-align: top;\n",
       "    }\n",
       "\n",
       "    .dataframe thead th {\n",
       "        text-align: right;\n",
       "    }\n",
       "</style>\n",
       "<table border=\"1\" class=\"dataframe\">\n",
       "  <thead>\n",
       "    <tr style=\"text-align: right;\">\n",
       "      <th></th>\n",
       "      <th>fixed acidity</th>\n",
       "      <th>volatile acidity</th>\n",
       "      <th>citric acid</th>\n",
       "      <th>residual sugar</th>\n",
       "      <th>chlorides</th>\n",
       "      <th>free sulfur dioxide</th>\n",
       "      <th>total sulfur dioxide</th>\n",
       "      <th>density</th>\n",
       "      <th>pH</th>\n",
       "      <th>sulphates</th>\n",
       "      <th>alcohol</th>\n",
       "      <th>quality</th>\n",
       "      <th>kfold</th>\n",
       "    </tr>\n",
       "  </thead>\n",
       "  <tbody>\n",
       "    <tr>\n",
       "      <th>0</th>\n",
       "      <td>6.2</td>\n",
       "      <td>0.52</td>\n",
       "      <td>0.08</td>\n",
       "      <td>4.4</td>\n",
       "      <td>0.071</td>\n",
       "      <td>11.0</td>\n",
       "      <td>32.0</td>\n",
       "      <td>0.99646</td>\n",
       "      <td>3.56</td>\n",
       "      <td>0.63</td>\n",
       "      <td>11.6</td>\n",
       "      <td>3</td>\n",
       "      <td>0</td>\n",
       "    </tr>\n",
       "    <tr>\n",
       "      <th>1</th>\n",
       "      <td>8.3</td>\n",
       "      <td>0.31</td>\n",
       "      <td>0.39</td>\n",
       "      <td>2.4</td>\n",
       "      <td>0.078</td>\n",
       "      <td>17.0</td>\n",
       "      <td>43.0</td>\n",
       "      <td>0.99444</td>\n",
       "      <td>3.31</td>\n",
       "      <td>0.77</td>\n",
       "      <td>12.5</td>\n",
       "      <td>4</td>\n",
       "      <td>0</td>\n",
       "    </tr>\n",
       "    <tr>\n",
       "      <th>2</th>\n",
       "      <td>8.4</td>\n",
       "      <td>0.65</td>\n",
       "      <td>0.60</td>\n",
       "      <td>2.1</td>\n",
       "      <td>0.112</td>\n",
       "      <td>12.0</td>\n",
       "      <td>90.0</td>\n",
       "      <td>0.99730</td>\n",
       "      <td>3.20</td>\n",
       "      <td>0.52</td>\n",
       "      <td>9.2</td>\n",
       "      <td>2</td>\n",
       "      <td>0</td>\n",
       "    </tr>\n",
       "    <tr>\n",
       "      <th>3</th>\n",
       "      <td>10.1</td>\n",
       "      <td>0.31</td>\n",
       "      <td>0.35</td>\n",
       "      <td>1.6</td>\n",
       "      <td>0.075</td>\n",
       "      <td>9.0</td>\n",
       "      <td>28.0</td>\n",
       "      <td>0.99672</td>\n",
       "      <td>3.24</td>\n",
       "      <td>0.83</td>\n",
       "      <td>11.2</td>\n",
       "      <td>4</td>\n",
       "      <td>0</td>\n",
       "    </tr>\n",
       "    <tr>\n",
       "      <th>4</th>\n",
       "      <td>15.9</td>\n",
       "      <td>0.36</td>\n",
       "      <td>0.65</td>\n",
       "      <td>7.5</td>\n",
       "      <td>0.096</td>\n",
       "      <td>22.0</td>\n",
       "      <td>71.0</td>\n",
       "      <td>0.99760</td>\n",
       "      <td>2.98</td>\n",
       "      <td>0.84</td>\n",
       "      <td>14.9</td>\n",
       "      <td>2</td>\n",
       "      <td>0</td>\n",
       "    </tr>\n",
       "    <tr>\n",
       "      <th>...</th>\n",
       "      <td>...</td>\n",
       "      <td>...</td>\n",
       "      <td>...</td>\n",
       "      <td>...</td>\n",
       "      <td>...</td>\n",
       "      <td>...</td>\n",
       "      <td>...</td>\n",
       "      <td>...</td>\n",
       "      <td>...</td>\n",
       "      <td>...</td>\n",
       "      <td>...</td>\n",
       "      <td>...</td>\n",
       "      <td>...</td>\n",
       "    </tr>\n",
       "    <tr>\n",
       "      <th>995</th>\n",
       "      <td>7.0</td>\n",
       "      <td>0.43</td>\n",
       "      <td>0.30</td>\n",
       "      <td>2.0</td>\n",
       "      <td>0.085</td>\n",
       "      <td>6.0</td>\n",
       "      <td>39.0</td>\n",
       "      <td>0.99346</td>\n",
       "      <td>3.33</td>\n",
       "      <td>0.46</td>\n",
       "      <td>11.9</td>\n",
       "      <td>3</td>\n",
       "      <td>4</td>\n",
       "    </tr>\n",
       "    <tr>\n",
       "      <th>996</th>\n",
       "      <td>6.8</td>\n",
       "      <td>0.67</td>\n",
       "      <td>0.02</td>\n",
       "      <td>1.8</td>\n",
       "      <td>0.050</td>\n",
       "      <td>5.0</td>\n",
       "      <td>11.0</td>\n",
       "      <td>0.99620</td>\n",
       "      <td>3.48</td>\n",
       "      <td>0.52</td>\n",
       "      <td>9.5</td>\n",
       "      <td>2</td>\n",
       "      <td>4</td>\n",
       "    </tr>\n",
       "    <tr>\n",
       "      <th>997</th>\n",
       "      <td>7.8</td>\n",
       "      <td>0.32</td>\n",
       "      <td>0.44</td>\n",
       "      <td>2.7</td>\n",
       "      <td>0.104</td>\n",
       "      <td>8.0</td>\n",
       "      <td>17.0</td>\n",
       "      <td>0.99732</td>\n",
       "      <td>3.33</td>\n",
       "      <td>0.78</td>\n",
       "      <td>11.0</td>\n",
       "      <td>4</td>\n",
       "      <td>4</td>\n",
       "    </tr>\n",
       "    <tr>\n",
       "      <th>998</th>\n",
       "      <td>7.9</td>\n",
       "      <td>0.57</td>\n",
       "      <td>0.31</td>\n",
       "      <td>2.0</td>\n",
       "      <td>0.079</td>\n",
       "      <td>10.0</td>\n",
       "      <td>79.0</td>\n",
       "      <td>0.99677</td>\n",
       "      <td>3.29</td>\n",
       "      <td>0.69</td>\n",
       "      <td>9.5</td>\n",
       "      <td>3</td>\n",
       "      <td>4</td>\n",
       "    </tr>\n",
       "    <tr>\n",
       "      <th>999</th>\n",
       "      <td>6.9</td>\n",
       "      <td>1.09</td>\n",
       "      <td>0.06</td>\n",
       "      <td>2.1</td>\n",
       "      <td>0.061</td>\n",
       "      <td>12.0</td>\n",
       "      <td>31.0</td>\n",
       "      <td>0.99480</td>\n",
       "      <td>3.51</td>\n",
       "      <td>0.43</td>\n",
       "      <td>11.4</td>\n",
       "      <td>1</td>\n",
       "      <td>4</td>\n",
       "    </tr>\n",
       "  </tbody>\n",
       "</table>\n",
       "<p>1000 rows × 13 columns</p>\n",
       "</div>"
      ],
      "text/plain": [
       "     fixed acidity  volatile acidity  citric acid  residual sugar  chlorides  \\\n",
       "0              6.2              0.52         0.08             4.4      0.071   \n",
       "1              8.3              0.31         0.39             2.4      0.078   \n",
       "2              8.4              0.65         0.60             2.1      0.112   \n",
       "3             10.1              0.31         0.35             1.6      0.075   \n",
       "4             15.9              0.36         0.65             7.5      0.096   \n",
       "..             ...               ...          ...             ...        ...   \n",
       "995            7.0              0.43         0.30             2.0      0.085   \n",
       "996            6.8              0.67         0.02             1.8      0.050   \n",
       "997            7.8              0.32         0.44             2.7      0.104   \n",
       "998            7.9              0.57         0.31             2.0      0.079   \n",
       "999            6.9              1.09         0.06             2.1      0.061   \n",
       "\n",
       "     free sulfur dioxide  total sulfur dioxide  density    pH  sulphates  \\\n",
       "0                   11.0                  32.0  0.99646  3.56       0.63   \n",
       "1                   17.0                  43.0  0.99444  3.31       0.77   \n",
       "2                   12.0                  90.0  0.99730  3.20       0.52   \n",
       "3                    9.0                  28.0  0.99672  3.24       0.83   \n",
       "4                   22.0                  71.0  0.99760  2.98       0.84   \n",
       "..                   ...                   ...      ...   ...        ...   \n",
       "995                  6.0                  39.0  0.99346  3.33       0.46   \n",
       "996                  5.0                  11.0  0.99620  3.48       0.52   \n",
       "997                  8.0                  17.0  0.99732  3.33       0.78   \n",
       "998                 10.0                  79.0  0.99677  3.29       0.69   \n",
       "999                 12.0                  31.0  0.99480  3.51       0.43   \n",
       "\n",
       "     alcohol  quality  kfold  \n",
       "0       11.6        3      0  \n",
       "1       12.5        4      0  \n",
       "2        9.2        2      0  \n",
       "3       11.2        4      0  \n",
       "4       14.9        2      0  \n",
       "..       ...      ...    ...  \n",
       "995     11.9        3      4  \n",
       "996      9.5        2      4  \n",
       "997     11.0        4      4  \n",
       "998      9.5        3      4  \n",
       "999     11.4        1      4  \n",
       "\n",
       "[1000 rows x 13 columns]"
      ]
     },
     "execution_count": 69,
     "metadata": {},
     "output_type": "execute_result"
    }
   ],
   "source": [
    "df"
   ]
  },
  {
   "cell_type": "code",
   "execution_count": 70,
   "metadata": {},
   "outputs": [],
   "source": [
    "# Save the new CSV with kfold column\n",
    "df.to_csv(\"df_kfold.cvs\",index = False)"
   ]
  },
  {
   "cell_type": "code",
   "execution_count": 71,
   "metadata": {},
   "outputs": [],
   "source": [
    "## Stratified K-Fold"
   ]
  },
  {
   "cell_type": "code",
   "execution_count": 72,
   "metadata": {},
   "outputs": [],
   "source": [
    "### If you have a skewed dataset i.e. 90% of data is a positive sample and 10% of data is negative sample you don't want to use K-Fold cross-validation"
   ]
  },
  {
   "cell_type": "code",
   "execution_count": 73,
   "metadata": {},
   "outputs": [],
   "source": [
    "# import pandas and model_selection module from scikit learn\n",
    "import pandas as pd\n",
    "from sklearn import model_selection"
   ]
  },
  {
   "cell_type": "code",
   "execution_count": 74,
   "metadata": {},
   "outputs": [],
   "source": [
    "if __name__ == '__main__':\n",
    "    # Training set\n",
    "    df = df_train"
   ]
  },
  {
   "cell_type": "code",
   "execution_count": 75,
   "metadata": {},
   "outputs": [],
   "source": [
    "# Create a new colum for k-fold and fill it with -1\n",
    "df['kfold'] = -1"
   ]
  },
  {
   "cell_type": "code",
   "execution_count": 76,
   "metadata": {},
   "outputs": [],
   "source": [
    "# Next step is to randomise the rows of the data\n",
    "df = df.sample(frac=1).reset_index(drop=True)"
   ]
  },
  {
   "cell_type": "code",
   "execution_count": 77,
   "metadata": {},
   "outputs": [],
   "source": [
    "# Fetch targets\n",
    "y = df.quality.values"
   ]
  },
  {
   "cell_type": "code",
   "execution_count": 78,
   "metadata": {},
   "outputs": [],
   "source": [
    "# initiate the k-fold class for model_selection module\n",
    "kf = model_selection.StratifiedKFold(n_splits=5)"
   ]
  },
  {
   "cell_type": "code",
   "execution_count": 79,
   "metadata": {},
   "outputs": [],
   "source": [
    "# Fill the new kfold column\n",
    "for f, (t_,v_) in enumerate(kf.split(X=df,y=y)):\n",
    "    df.loc[v_,'kfold'] = f"
   ]
  },
  {
   "cell_type": "code",
   "execution_count": 80,
   "metadata": {},
   "outputs": [],
   "source": [
    "df.to_csv(\"Train_fold_Kstrat.csv\",index=False)"
   ]
  },
  {
   "cell_type": "code",
   "execution_count": 81,
   "metadata": {},
   "outputs": [],
   "source": [
    "## For wine dataset the distribution of lables is "
   ]
  },
  {
   "cell_type": "code",
   "execution_count": 82,
   "metadata": {},
   "outputs": [
    {
     "data": {
      "image/png": "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\n",
      "text/plain": [
       "<Figure size 432x288 with 1 Axes>"
      ]
     },
     "metadata": {},
     "output_type": "display_data"
    }
   ],
   "source": [
    "b= sns.countplot(x='quality',data=df)"
   ]
  },
  {
   "cell_type": "code",
   "execution_count": 83,
   "metadata": {},
   "outputs": [
    {
     "data": {
      "text/plain": [
       "Text(16.200000000000003, 0.5, 'Count')"
      ]
     },
     "execution_count": 83,
     "metadata": {},
     "output_type": "execute_result"
    }
   ],
   "source": [
    "b.set_xlabel(\"Quality\",fontsize = 20)\n",
    "b.set_ylabel(\"Count\",fontsize = 20)"
   ]
  },
  {
   "cell_type": "markdown",
   "metadata": {},
   "source": [
    "## If it is a standard classification problem choose Statified k-fold blindly"
   ]
  },
  {
   "cell_type": "markdown",
   "metadata": {},
   "source": [
    "# Cross Validation for Regression problems"
   ]
  },
  {
   "cell_type": "markdown",
   "metadata": {},
   "source": [
    "### We can't use stratified K-fold validation, but mostly simple k-fold cross validation works on any regression problem"
   ]
  },
  {
   "cell_type": "code",
   "execution_count": 88,
   "metadata": {},
   "outputs": [],
   "source": [
    "# Stratified k-fold regression\n",
    "import pandas as pd\n",
    "import numpy as np"
   ]
  },
  {
   "cell_type": "code",
   "execution_count": 89,
   "metadata": {},
   "outputs": [
    {
     "name": "stderr",
     "output_type": "stream",
     "text": [
      "/Users/apple/opt/anaconda3/lib/python3.7/importlib/_bootstrap.py:219: RuntimeWarning: numpy.ufunc size changed, may indicate binary incompatibility. Expected 192 from C header, got 216 from PyObject\n",
      "  return f(*args, **kwds)\n"
     ]
    }
   ],
   "source": [
    "from sklearn import datasets\n",
    "from sklearn import model_selection"
   ]
  },
  {
   "cell_type": "code",
   "execution_count": 94,
   "metadata": {},
   "outputs": [],
   "source": [
    "def create_folds(data):\n",
    "    # Create a new column called kfold and fill it with -1\n",
    "    data['kfold'] = -1\n",
    "    # Next step is to randomise the rows\n",
    "    data = data.sample(frac =1).reset_index(drop =True)\n",
    "    #calculate the number of bins using Sturges Rule\n",
    "    # Take the floor of the values and round it\n",
    "    num_bins = int(np.floor(1+np.log2(len(data))))\n",
    "    #bin Targets\n",
    "    data.loc[:,\"bins\"] =pd.cut(\n",
    "        data[\"target\"],bins = num_bins,labels = False\n",
    "    )\n",
    "    # Initialse the kfold class from model_selection from sklearn module\n",
    "    kf = model_selection.StratifiedKFold(n_splits=5)\n",
    "    # fill the new kfold column\n",
    "    #instead of targets we use bins\n",
    "    for f,(t_,v_) in enumerate(kf.split(X = data,y = data.bins.values)):\n",
    "        data.loc[v_,'kfold'] = f\n",
    "    #Drop the bins column\n",
    "    data = data.drop('bins',axis =1)\n",
    "    ## Return dataframe with folds\n",
    "    return data\n"
   ]
  },
  {
   "cell_type": "code",
   "execution_count": 105,
   "metadata": {},
   "outputs": [
    {
     "ename": "SyntaxError",
     "evalue": "invalid syntax (<ipython-input-105-af9551817f69>, line 10)",
     "output_type": "error",
     "traceback": [
      "\u001b[0;36m  File \u001b[0;32m\"<ipython-input-105-af9551817f69>\"\u001b[0;36m, line \u001b[0;32m10\u001b[0m\n\u001b[0;31m    df.loc[:, \"target\"] =y\u001b[0m\n\u001b[0m     ^\u001b[0m\n\u001b[0;31mSyntaxError\u001b[0m\u001b[0;31m:\u001b[0m invalid syntax\n"
     ]
    }
   ],
   "source": [
    "if __name__ == \"__main__\":\n",
    "# We create a sample dataset with 15000 samples\n",
    "# 100 features and 1 target\n",
    "    X,y = datasets.make_regression(\n",
    "    n_samples=15000,n_features=100,n_targets=1)\n",
    "\n",
    "# Create a dataframe out of our numpy array\n",
    "df =df.DataFrame(X,colorsumns =[f\"f_{i}\" for i in range(X.shape[1])\n",
    "\n",
    "df.loc[:, \"target\"] =y\n",
    "# Create folds\n",
    "df = create_folds(df)"
   ]
  },
  {
   "cell_type": "code",
   "execution_count": 106,
   "metadata": {},
   "outputs": [
    {
     "data": {
      "text/html": [
       "<div>\n",
       "<style scoped>\n",
       "    .dataframe tbody tr th:only-of-type {\n",
       "        vertical-align: middle;\n",
       "    }\n",
       "\n",
       "    .dataframe tbody tr th {\n",
       "        vertical-align: top;\n",
       "    }\n",
       "\n",
       "    .dataframe thead th {\n",
       "        text-align: right;\n",
       "    }\n",
       "</style>\n",
       "<table border=\"1\" class=\"dataframe\">\n",
       "  <thead>\n",
       "    <tr style=\"text-align: right;\">\n",
       "      <th></th>\n",
       "      <th>fixed acidity</th>\n",
       "      <th>volatile acidity</th>\n",
       "      <th>citric acid</th>\n",
       "      <th>residual sugar</th>\n",
       "      <th>chlorides</th>\n",
       "      <th>free sulfur dioxide</th>\n",
       "      <th>total sulfur dioxide</th>\n",
       "      <th>density</th>\n",
       "      <th>pH</th>\n",
       "      <th>sulphates</th>\n",
       "      <th>alcohol</th>\n",
       "      <th>quality</th>\n",
       "      <th>kfold</th>\n",
       "    </tr>\n",
       "  </thead>\n",
       "  <tbody>\n",
       "    <tr>\n",
       "      <th>0</th>\n",
       "      <td>6.7</td>\n",
       "      <td>0.560</td>\n",
       "      <td>0.09</td>\n",
       "      <td>2.9</td>\n",
       "      <td>0.079</td>\n",
       "      <td>7.0</td>\n",
       "      <td>22.0</td>\n",
       "      <td>0.99669</td>\n",
       "      <td>3.46</td>\n",
       "      <td>0.61</td>\n",
       "      <td>10.2</td>\n",
       "      <td>2</td>\n",
       "      <td>0</td>\n",
       "    </tr>\n",
       "    <tr>\n",
       "      <th>1</th>\n",
       "      <td>5.7</td>\n",
       "      <td>0.600</td>\n",
       "      <td>0.00</td>\n",
       "      <td>1.4</td>\n",
       "      <td>0.063</td>\n",
       "      <td>11.0</td>\n",
       "      <td>18.0</td>\n",
       "      <td>0.99191</td>\n",
       "      <td>3.45</td>\n",
       "      <td>0.56</td>\n",
       "      <td>12.2</td>\n",
       "      <td>3</td>\n",
       "      <td>0</td>\n",
       "    </tr>\n",
       "    <tr>\n",
       "      <th>2</th>\n",
       "      <td>6.5</td>\n",
       "      <td>0.615</td>\n",
       "      <td>0.00</td>\n",
       "      <td>1.9</td>\n",
       "      <td>0.065</td>\n",
       "      <td>9.0</td>\n",
       "      <td>18.0</td>\n",
       "      <td>0.99720</td>\n",
       "      <td>3.46</td>\n",
       "      <td>0.65</td>\n",
       "      <td>9.2</td>\n",
       "      <td>2</td>\n",
       "      <td>0</td>\n",
       "    </tr>\n",
       "    <tr>\n",
       "      <th>3</th>\n",
       "      <td>7.0</td>\n",
       "      <td>0.690</td>\n",
       "      <td>0.07</td>\n",
       "      <td>2.5</td>\n",
       "      <td>0.091</td>\n",
       "      <td>15.0</td>\n",
       "      <td>21.0</td>\n",
       "      <td>0.99572</td>\n",
       "      <td>3.38</td>\n",
       "      <td>0.60</td>\n",
       "      <td>11.3</td>\n",
       "      <td>3</td>\n",
       "      <td>0</td>\n",
       "    </tr>\n",
       "    <tr>\n",
       "      <th>4</th>\n",
       "      <td>7.8</td>\n",
       "      <td>0.645</td>\n",
       "      <td>0.00</td>\n",
       "      <td>2.0</td>\n",
       "      <td>0.082</td>\n",
       "      <td>8.0</td>\n",
       "      <td>16.0</td>\n",
       "      <td>0.99640</td>\n",
       "      <td>3.38</td>\n",
       "      <td>0.59</td>\n",
       "      <td>9.8</td>\n",
       "      <td>3</td>\n",
       "      <td>0</td>\n",
       "    </tr>\n",
       "    <tr>\n",
       "      <th>...</th>\n",
       "      <td>...</td>\n",
       "      <td>...</td>\n",
       "      <td>...</td>\n",
       "      <td>...</td>\n",
       "      <td>...</td>\n",
       "      <td>...</td>\n",
       "      <td>...</td>\n",
       "      <td>...</td>\n",
       "      <td>...</td>\n",
       "      <td>...</td>\n",
       "      <td>...</td>\n",
       "      <td>...</td>\n",
       "      <td>...</td>\n",
       "    </tr>\n",
       "    <tr>\n",
       "      <th>995</th>\n",
       "      <td>6.6</td>\n",
       "      <td>0.610</td>\n",
       "      <td>0.01</td>\n",
       "      <td>1.9</td>\n",
       "      <td>0.080</td>\n",
       "      <td>8.0</td>\n",
       "      <td>25.0</td>\n",
       "      <td>0.99746</td>\n",
       "      <td>3.69</td>\n",
       "      <td>0.73</td>\n",
       "      <td>10.5</td>\n",
       "      <td>2</td>\n",
       "      <td>4</td>\n",
       "    </tr>\n",
       "    <tr>\n",
       "      <th>996</th>\n",
       "      <td>7.2</td>\n",
       "      <td>0.630</td>\n",
       "      <td>0.00</td>\n",
       "      <td>1.9</td>\n",
       "      <td>0.097</td>\n",
       "      <td>14.0</td>\n",
       "      <td>38.0</td>\n",
       "      <td>0.99675</td>\n",
       "      <td>3.37</td>\n",
       "      <td>0.58</td>\n",
       "      <td>9.0</td>\n",
       "      <td>3</td>\n",
       "      <td>4</td>\n",
       "    </tr>\n",
       "    <tr>\n",
       "      <th>997</th>\n",
       "      <td>8.7</td>\n",
       "      <td>0.520</td>\n",
       "      <td>0.09</td>\n",
       "      <td>2.5</td>\n",
       "      <td>0.091</td>\n",
       "      <td>20.0</td>\n",
       "      <td>49.0</td>\n",
       "      <td>0.99760</td>\n",
       "      <td>3.34</td>\n",
       "      <td>0.86</td>\n",
       "      <td>10.6</td>\n",
       "      <td>4</td>\n",
       "      <td>4</td>\n",
       "    </tr>\n",
       "    <tr>\n",
       "      <th>998</th>\n",
       "      <td>7.8</td>\n",
       "      <td>0.500</td>\n",
       "      <td>0.12</td>\n",
       "      <td>1.8</td>\n",
       "      <td>0.178</td>\n",
       "      <td>6.0</td>\n",
       "      <td>21.0</td>\n",
       "      <td>0.99600</td>\n",
       "      <td>3.28</td>\n",
       "      <td>0.87</td>\n",
       "      <td>9.8</td>\n",
       "      <td>3</td>\n",
       "      <td>4</td>\n",
       "    </tr>\n",
       "    <tr>\n",
       "      <th>999</th>\n",
       "      <td>8.3</td>\n",
       "      <td>0.705</td>\n",
       "      <td>0.12</td>\n",
       "      <td>2.6</td>\n",
       "      <td>0.092</td>\n",
       "      <td>12.0</td>\n",
       "      <td>28.0</td>\n",
       "      <td>0.99940</td>\n",
       "      <td>3.51</td>\n",
       "      <td>0.72</td>\n",
       "      <td>10.0</td>\n",
       "      <td>2</td>\n",
       "      <td>4</td>\n",
       "    </tr>\n",
       "  </tbody>\n",
       "</table>\n",
       "<p>1000 rows × 13 columns</p>\n",
       "</div>"
      ],
      "text/plain": [
       "     fixed acidity  volatile acidity  citric acid  residual sugar  chlorides  \\\n",
       "0              6.7             0.560         0.09             2.9      0.079   \n",
       "1              5.7             0.600         0.00             1.4      0.063   \n",
       "2              6.5             0.615         0.00             1.9      0.065   \n",
       "3              7.0             0.690         0.07             2.5      0.091   \n",
       "4              7.8             0.645         0.00             2.0      0.082   \n",
       "..             ...               ...          ...             ...        ...   \n",
       "995            6.6             0.610         0.01             1.9      0.080   \n",
       "996            7.2             0.630         0.00             1.9      0.097   \n",
       "997            8.7             0.520         0.09             2.5      0.091   \n",
       "998            7.8             0.500         0.12             1.8      0.178   \n",
       "999            8.3             0.705         0.12             2.6      0.092   \n",
       "\n",
       "     free sulfur dioxide  total sulfur dioxide  density    pH  sulphates  \\\n",
       "0                    7.0                  22.0  0.99669  3.46       0.61   \n",
       "1                   11.0                  18.0  0.99191  3.45       0.56   \n",
       "2                    9.0                  18.0  0.99720  3.46       0.65   \n",
       "3                   15.0                  21.0  0.99572  3.38       0.60   \n",
       "4                    8.0                  16.0  0.99640  3.38       0.59   \n",
       "..                   ...                   ...      ...   ...        ...   \n",
       "995                  8.0                  25.0  0.99746  3.69       0.73   \n",
       "996                 14.0                  38.0  0.99675  3.37       0.58   \n",
       "997                 20.0                  49.0  0.99760  3.34       0.86   \n",
       "998                  6.0                  21.0  0.99600  3.28       0.87   \n",
       "999                 12.0                  28.0  0.99940  3.51       0.72   \n",
       "\n",
       "     alcohol  quality  kfold  \n",
       "0       10.2        2      0  \n",
       "1       12.2        3      0  \n",
       "2        9.2        2      0  \n",
       "3       11.3        3      0  \n",
       "4        9.8        3      0  \n",
       "..       ...      ...    ...  \n",
       "995     10.5        2      4  \n",
       "996      9.0        3      4  \n",
       "997     10.6        4      4  \n",
       "998      9.8        3      4  \n",
       "999     10.0        2      4  \n",
       "\n",
       "[1000 rows x 13 columns]"
      ]
     },
     "execution_count": 106,
     "metadata": {},
     "output_type": "execute_result"
    }
   ],
   "source": []
  },
  {
   "cell_type": "code",
   "execution_count": null,
   "metadata": {},
   "outputs": [],
   "source": []
  }
 ],
 "metadata": {
  "kernelspec": {
   "display_name": "Python 3",
   "language": "python",
   "name": "python3"
  },
  "language_info": {
   "codemirror_mode": {
    "name": "ipython",
    "version": 3
   },
   "file_extension": ".py",
   "mimetype": "text/x-python",
   "name": "python",
   "nbconvert_exporter": "python",
   "pygments_lexer": "ipython3",
   "version": "3.7.6"
  }
 },
 "nbformat": 4,
 "nbformat_minor": 4
}
